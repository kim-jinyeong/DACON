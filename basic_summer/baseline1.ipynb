{
 "cells": [
  {
   "cell_type": "code",
   "execution_count": 146,
   "outputs": [
    {
     "name": "stdout",
     "output_type": "stream",
     "text": [
      "<class 'pandas.core.frame.DataFrame'>\n",
      "RangeIndex: 6255 entries, 0 to 6254\n",
      "Data columns (total 13 columns):\n",
      " #   Column        Non-Null Count  Dtype  \n",
      "---  ------        --------------  -----  \n",
      " 0   id            6255 non-null   int64  \n",
      " 1   Store         6255 non-null   int64  \n",
      " 2   Date          6255 non-null   object \n",
      " 3   Temperature   6255 non-null   float64\n",
      " 4   Fuel_Price    6255 non-null   float64\n",
      " 5   Promotion1    2102 non-null   float64\n",
      " 6   Promotion2    1592 non-null   float64\n",
      " 7   Promotion3    1885 non-null   float64\n",
      " 8   Promotion4    1819 non-null   float64\n",
      " 9   Promotion5    2115 non-null   float64\n",
      " 10  Unemployment  6255 non-null   float64\n",
      " 11  IsHoliday     6255 non-null   bool   \n",
      " 12  Weekly_Sales  6255 non-null   float64\n",
      "dtypes: bool(1), float64(9), int64(2), object(1)\n",
      "memory usage: 592.6+ KB\n"
     ]
    }
   ],
   "source": [
    "import pandas as pd\n",
    "train = pd.read_csv('./dataset/train.csv')\n",
    "test = pd.read_csv('./dataset/test.csv')\n",
    "sample_submission = pd.read_csv('./dataset/sample_submission.csv')\n",
    "train.info()\n"
   ],
   "metadata": {
    "collapsed": false,
    "pycharm": {
     "name": "#%%\n"
    }
   }
  },
  {
   "cell_type": "code",
   "execution_count": 147,
   "outputs": [
    {
     "data": {
      "text/plain": "   id  Store        Date  Temperature  Fuel_Price  Promotion1  Promotion2  \\\n0   1      1  05/02/2010        42.31       2.572         NaN         NaN   \n1   2      1  12/02/2010        38.51       2.548         NaN         NaN   \n2   3      1  19/02/2010        39.93       2.514         NaN         NaN   \n3   4      1  26/02/2010        46.63       2.561         NaN         NaN   \n4   5      1  05/03/2010        46.50       2.625         NaN         NaN   \n\n   Promotion3  Promotion4  Promotion5  Unemployment  IsHoliday  Weekly_Sales  \n0         NaN         NaN         NaN         8.106      False    1643690.90  \n1         NaN         NaN         NaN         8.106       True    1641957.44  \n2         NaN         NaN         NaN         8.106      False    1611968.17  \n3         NaN         NaN         NaN         8.106      False    1409727.59  \n4         NaN         NaN         NaN         8.106      False    1554806.68  ",
      "text/html": "<div>\n<style scoped>\n    .dataframe tbody tr th:only-of-type {\n        vertical-align: middle;\n    }\n\n    .dataframe tbody tr th {\n        vertical-align: top;\n    }\n\n    .dataframe thead th {\n        text-align: right;\n    }\n</style>\n<table border=\"1\" class=\"dataframe\">\n  <thead>\n    <tr style=\"text-align: right;\">\n      <th></th>\n      <th>id</th>\n      <th>Store</th>\n      <th>Date</th>\n      <th>Temperature</th>\n      <th>Fuel_Price</th>\n      <th>Promotion1</th>\n      <th>Promotion2</th>\n      <th>Promotion3</th>\n      <th>Promotion4</th>\n      <th>Promotion5</th>\n      <th>Unemployment</th>\n      <th>IsHoliday</th>\n      <th>Weekly_Sales</th>\n    </tr>\n  </thead>\n  <tbody>\n    <tr>\n      <th>0</th>\n      <td>1</td>\n      <td>1</td>\n      <td>05/02/2010</td>\n      <td>42.31</td>\n      <td>2.572</td>\n      <td>NaN</td>\n      <td>NaN</td>\n      <td>NaN</td>\n      <td>NaN</td>\n      <td>NaN</td>\n      <td>8.106</td>\n      <td>False</td>\n      <td>1643690.90</td>\n    </tr>\n    <tr>\n      <th>1</th>\n      <td>2</td>\n      <td>1</td>\n      <td>12/02/2010</td>\n      <td>38.51</td>\n      <td>2.548</td>\n      <td>NaN</td>\n      <td>NaN</td>\n      <td>NaN</td>\n      <td>NaN</td>\n      <td>NaN</td>\n      <td>8.106</td>\n      <td>True</td>\n      <td>1641957.44</td>\n    </tr>\n    <tr>\n      <th>2</th>\n      <td>3</td>\n      <td>1</td>\n      <td>19/02/2010</td>\n      <td>39.93</td>\n      <td>2.514</td>\n      <td>NaN</td>\n      <td>NaN</td>\n      <td>NaN</td>\n      <td>NaN</td>\n      <td>NaN</td>\n      <td>8.106</td>\n      <td>False</td>\n      <td>1611968.17</td>\n    </tr>\n    <tr>\n      <th>3</th>\n      <td>4</td>\n      <td>1</td>\n      <td>26/02/2010</td>\n      <td>46.63</td>\n      <td>2.561</td>\n      <td>NaN</td>\n      <td>NaN</td>\n      <td>NaN</td>\n      <td>NaN</td>\n      <td>NaN</td>\n      <td>8.106</td>\n      <td>False</td>\n      <td>1409727.59</td>\n    </tr>\n    <tr>\n      <th>4</th>\n      <td>5</td>\n      <td>1</td>\n      <td>05/03/2010</td>\n      <td>46.50</td>\n      <td>2.625</td>\n      <td>NaN</td>\n      <td>NaN</td>\n      <td>NaN</td>\n      <td>NaN</td>\n      <td>NaN</td>\n      <td>8.106</td>\n      <td>False</td>\n      <td>1554806.68</td>\n    </tr>\n  </tbody>\n</table>\n</div>"
     },
     "execution_count": 147,
     "metadata": {},
     "output_type": "execute_result"
    }
   ],
   "source": [
    "train.head()"
   ],
   "metadata": {
    "collapsed": false,
    "pycharm": {
     "name": "#%%\n"
    }
   }
  },
  {
   "cell_type": "code",
   "execution_count": 148,
   "outputs": [
    {
     "data": {
      "text/plain": "        id  Store        Date  Temperature  Fuel_Price  Promotion1  \\\n6250  6251     45  31/08/2012        75.09       3.867    23641.30   \n6251  6252     45  07/09/2012        75.70       3.911    11024.45   \n6252  6253     45  14/09/2012        67.87       3.948    11407.95   \n6253  6254     45  21/09/2012        65.32       4.038     8452.20   \n6254  6255     45  28/09/2012        64.88       3.997     4556.61   \n\n      Promotion2  Promotion3  Promotion4  Promotion5  Unemployment  IsHoliday  \\\n6250        6.00       92.93     6988.31     3992.13         8.684      False   \n6251       12.80       52.63     1854.77     2055.70         8.684       True   \n6252         NaN        4.30     3421.72     5268.92         8.684      False   \n6253       92.28       63.24     2376.38     8670.40         8.684      False   \n6254       20.64        1.50     1601.01     3288.25         8.684      False   \n\n      Weekly_Sales  \n6250     734297.87  \n6251     766512.66  \n6252     702238.27  \n6253     723086.20  \n6254     713173.95  ",
      "text/html": "<div>\n<style scoped>\n    .dataframe tbody tr th:only-of-type {\n        vertical-align: middle;\n    }\n\n    .dataframe tbody tr th {\n        vertical-align: top;\n    }\n\n    .dataframe thead th {\n        text-align: right;\n    }\n</style>\n<table border=\"1\" class=\"dataframe\">\n  <thead>\n    <tr style=\"text-align: right;\">\n      <th></th>\n      <th>id</th>\n      <th>Store</th>\n      <th>Date</th>\n      <th>Temperature</th>\n      <th>Fuel_Price</th>\n      <th>Promotion1</th>\n      <th>Promotion2</th>\n      <th>Promotion3</th>\n      <th>Promotion4</th>\n      <th>Promotion5</th>\n      <th>Unemployment</th>\n      <th>IsHoliday</th>\n      <th>Weekly_Sales</th>\n    </tr>\n  </thead>\n  <tbody>\n    <tr>\n      <th>6250</th>\n      <td>6251</td>\n      <td>45</td>\n      <td>31/08/2012</td>\n      <td>75.09</td>\n      <td>3.867</td>\n      <td>23641.30</td>\n      <td>6.00</td>\n      <td>92.93</td>\n      <td>6988.31</td>\n      <td>3992.13</td>\n      <td>8.684</td>\n      <td>False</td>\n      <td>734297.87</td>\n    </tr>\n    <tr>\n      <th>6251</th>\n      <td>6252</td>\n      <td>45</td>\n      <td>07/09/2012</td>\n      <td>75.70</td>\n      <td>3.911</td>\n      <td>11024.45</td>\n      <td>12.80</td>\n      <td>52.63</td>\n      <td>1854.77</td>\n      <td>2055.70</td>\n      <td>8.684</td>\n      <td>True</td>\n      <td>766512.66</td>\n    </tr>\n    <tr>\n      <th>6252</th>\n      <td>6253</td>\n      <td>45</td>\n      <td>14/09/2012</td>\n      <td>67.87</td>\n      <td>3.948</td>\n      <td>11407.95</td>\n      <td>NaN</td>\n      <td>4.30</td>\n      <td>3421.72</td>\n      <td>5268.92</td>\n      <td>8.684</td>\n      <td>False</td>\n      <td>702238.27</td>\n    </tr>\n    <tr>\n      <th>6253</th>\n      <td>6254</td>\n      <td>45</td>\n      <td>21/09/2012</td>\n      <td>65.32</td>\n      <td>4.038</td>\n      <td>8452.20</td>\n      <td>92.28</td>\n      <td>63.24</td>\n      <td>2376.38</td>\n      <td>8670.40</td>\n      <td>8.684</td>\n      <td>False</td>\n      <td>723086.20</td>\n    </tr>\n    <tr>\n      <th>6254</th>\n      <td>6255</td>\n      <td>45</td>\n      <td>28/09/2012</td>\n      <td>64.88</td>\n      <td>3.997</td>\n      <td>4556.61</td>\n      <td>20.64</td>\n      <td>1.50</td>\n      <td>1601.01</td>\n      <td>3288.25</td>\n      <td>8.684</td>\n      <td>False</td>\n      <td>713173.95</td>\n    </tr>\n  </tbody>\n</table>\n</div>"
     },
     "execution_count": 148,
     "metadata": {},
     "output_type": "execute_result"
    }
   ],
   "source": [
    "train.tail()"
   ],
   "metadata": {
    "collapsed": false,
    "pycharm": {
     "name": "#%%\n"
    }
   }
  },
  {
   "cell_type": "markdown",
   "source": [
    "6255개의 인덱스, 13개의 컬럼, 45개의 store, 2010-02-05 ~ 2012-09-28 date\n",
    "Promotion 부분에 결측치 확인\n",
    "date, IsHoliday 의 타입이 object, boolean 이기 때문에 데이터 전처리 필요"
   ],
   "metadata": {
    "collapsed": false,
    "pycharm": {
     "name": "#%% md\n"
    }
   }
  },
  {
   "cell_type": "code",
   "execution_count": 149,
   "outputs": [
    {
     "name": "stdout",
     "output_type": "stream",
     "text": [
      "<class 'pandas.core.frame.DataFrame'>\n",
      "RangeIndex: 6255 entries, 0 to 6254\n",
      "Data columns (total 13 columns):\n",
      " #   Column        Non-Null Count  Dtype  \n",
      "---  ------        --------------  -----  \n",
      " 0   id            6255 non-null   int64  \n",
      " 1   Store         6255 non-null   int64  \n",
      " 2   Date          6255 non-null   object \n",
      " 3   Temperature   6255 non-null   float64\n",
      " 4   Fuel_Price    6255 non-null   float64\n",
      " 5   Promotion1    6255 non-null   float64\n",
      " 6   Promotion2    6255 non-null   float64\n",
      " 7   Promotion3    6255 non-null   float64\n",
      " 8   Promotion4    6255 non-null   float64\n",
      " 9   Promotion5    6255 non-null   float64\n",
      " 10  Unemployment  6255 non-null   float64\n",
      " 11  IsHoliday     6255 non-null   bool   \n",
      " 12  Weekly_Sales  6255 non-null   float64\n",
      "dtypes: bool(1), float64(9), int64(2), object(1)\n",
      "memory usage: 592.6+ KB\n"
     ]
    }
   ],
   "source": [
    "train = train.fillna(0)\n",
    "train.info()"
   ],
   "metadata": {
    "collapsed": false,
    "pycharm": {
     "name": "#%%\n"
    }
   }
  },
  {
   "cell_type": "markdown",
   "source": [
    "fillna(0) 메소드를 사용하여 결측치인 부분 0으로 채우기"
   ],
   "metadata": {
    "collapsed": false,
    "pycharm": {
     "name": "#%% md\n"
    }
   }
  },
  {
   "cell_type": "code",
   "execution_count": 150,
   "outputs": [
    {
     "data": {
      "text/plain": "        id  Store      Date  Temperature  Fuel_Price  Promotion1  Promotion2  \\\n0        1      1  20100205        42.31       2.572        0.00        0.00   \n1        2      1  20100212        38.51       2.548        0.00        0.00   \n2        3      1  20100219        39.93       2.514        0.00        0.00   \n3        4      1  20100226        46.63       2.561        0.00        0.00   \n4        5      1  20100305        46.50       2.625        0.00        0.00   \n...    ...    ...       ...          ...         ...         ...         ...   \n6250  6251     45  20120831        75.09       3.867    23641.30        6.00   \n6251  6252     45  20120907        75.70       3.911    11024.45       12.80   \n6252  6253     45  20120914        67.87       3.948    11407.95        0.00   \n6253  6254     45  20120921        65.32       4.038     8452.20       92.28   \n6254  6255     45  20120928        64.88       3.997     4556.61       20.64   \n\n      Promotion3  Promotion4  Promotion5  Unemployment  IsHoliday  \\\n0           0.00        0.00        0.00         8.106      False   \n1           0.00        0.00        0.00         8.106       True   \n2           0.00        0.00        0.00         8.106      False   \n3           0.00        0.00        0.00         8.106      False   \n4           0.00        0.00        0.00         8.106      False   \n...          ...         ...         ...           ...        ...   \n6250       92.93     6988.31     3992.13         8.684      False   \n6251       52.63     1854.77     2055.70         8.684       True   \n6252        4.30     3421.72     5268.92         8.684      False   \n6253       63.24     2376.38     8670.40         8.684      False   \n6254        1.50     1601.01     3288.25         8.684      False   \n\n      Weekly_Sales  \n0       1643690.90  \n1       1641957.44  \n2       1611968.17  \n3       1409727.59  \n4       1554806.68  \n...            ...  \n6250     734297.87  \n6251     766512.66  \n6252     702238.27  \n6253     723086.20  \n6254     713173.95  \n\n[6255 rows x 13 columns]",
      "text/html": "<div>\n<style scoped>\n    .dataframe tbody tr th:only-of-type {\n        vertical-align: middle;\n    }\n\n    .dataframe tbody tr th {\n        vertical-align: top;\n    }\n\n    .dataframe thead th {\n        text-align: right;\n    }\n</style>\n<table border=\"1\" class=\"dataframe\">\n  <thead>\n    <tr style=\"text-align: right;\">\n      <th></th>\n      <th>id</th>\n      <th>Store</th>\n      <th>Date</th>\n      <th>Temperature</th>\n      <th>Fuel_Price</th>\n      <th>Promotion1</th>\n      <th>Promotion2</th>\n      <th>Promotion3</th>\n      <th>Promotion4</th>\n      <th>Promotion5</th>\n      <th>Unemployment</th>\n      <th>IsHoliday</th>\n      <th>Weekly_Sales</th>\n    </tr>\n  </thead>\n  <tbody>\n    <tr>\n      <th>0</th>\n      <td>1</td>\n      <td>1</td>\n      <td>20100205</td>\n      <td>42.31</td>\n      <td>2.572</td>\n      <td>0.00</td>\n      <td>0.00</td>\n      <td>0.00</td>\n      <td>0.00</td>\n      <td>0.00</td>\n      <td>8.106</td>\n      <td>False</td>\n      <td>1643690.90</td>\n    </tr>\n    <tr>\n      <th>1</th>\n      <td>2</td>\n      <td>1</td>\n      <td>20100212</td>\n      <td>38.51</td>\n      <td>2.548</td>\n      <td>0.00</td>\n      <td>0.00</td>\n      <td>0.00</td>\n      <td>0.00</td>\n      <td>0.00</td>\n      <td>8.106</td>\n      <td>True</td>\n      <td>1641957.44</td>\n    </tr>\n    <tr>\n      <th>2</th>\n      <td>3</td>\n      <td>1</td>\n      <td>20100219</td>\n      <td>39.93</td>\n      <td>2.514</td>\n      <td>0.00</td>\n      <td>0.00</td>\n      <td>0.00</td>\n      <td>0.00</td>\n      <td>0.00</td>\n      <td>8.106</td>\n      <td>False</td>\n      <td>1611968.17</td>\n    </tr>\n    <tr>\n      <th>3</th>\n      <td>4</td>\n      <td>1</td>\n      <td>20100226</td>\n      <td>46.63</td>\n      <td>2.561</td>\n      <td>0.00</td>\n      <td>0.00</td>\n      <td>0.00</td>\n      <td>0.00</td>\n      <td>0.00</td>\n      <td>8.106</td>\n      <td>False</td>\n      <td>1409727.59</td>\n    </tr>\n    <tr>\n      <th>4</th>\n      <td>5</td>\n      <td>1</td>\n      <td>20100305</td>\n      <td>46.50</td>\n      <td>2.625</td>\n      <td>0.00</td>\n      <td>0.00</td>\n      <td>0.00</td>\n      <td>0.00</td>\n      <td>0.00</td>\n      <td>8.106</td>\n      <td>False</td>\n      <td>1554806.68</td>\n    </tr>\n    <tr>\n      <th>...</th>\n      <td>...</td>\n      <td>...</td>\n      <td>...</td>\n      <td>...</td>\n      <td>...</td>\n      <td>...</td>\n      <td>...</td>\n      <td>...</td>\n      <td>...</td>\n      <td>...</td>\n      <td>...</td>\n      <td>...</td>\n      <td>...</td>\n    </tr>\n    <tr>\n      <th>6250</th>\n      <td>6251</td>\n      <td>45</td>\n      <td>20120831</td>\n      <td>75.09</td>\n      <td>3.867</td>\n      <td>23641.30</td>\n      <td>6.00</td>\n      <td>92.93</td>\n      <td>6988.31</td>\n      <td>3992.13</td>\n      <td>8.684</td>\n      <td>False</td>\n      <td>734297.87</td>\n    </tr>\n    <tr>\n      <th>6251</th>\n      <td>6252</td>\n      <td>45</td>\n      <td>20120907</td>\n      <td>75.70</td>\n      <td>3.911</td>\n      <td>11024.45</td>\n      <td>12.80</td>\n      <td>52.63</td>\n      <td>1854.77</td>\n      <td>2055.70</td>\n      <td>8.684</td>\n      <td>True</td>\n      <td>766512.66</td>\n    </tr>\n    <tr>\n      <th>6252</th>\n      <td>6253</td>\n      <td>45</td>\n      <td>20120914</td>\n      <td>67.87</td>\n      <td>3.948</td>\n      <td>11407.95</td>\n      <td>0.00</td>\n      <td>4.30</td>\n      <td>3421.72</td>\n      <td>5268.92</td>\n      <td>8.684</td>\n      <td>False</td>\n      <td>702238.27</td>\n    </tr>\n    <tr>\n      <th>6253</th>\n      <td>6254</td>\n      <td>45</td>\n      <td>20120921</td>\n      <td>65.32</td>\n      <td>4.038</td>\n      <td>8452.20</td>\n      <td>92.28</td>\n      <td>63.24</td>\n      <td>2376.38</td>\n      <td>8670.40</td>\n      <td>8.684</td>\n      <td>False</td>\n      <td>723086.20</td>\n    </tr>\n    <tr>\n      <th>6254</th>\n      <td>6255</td>\n      <td>45</td>\n      <td>20120928</td>\n      <td>64.88</td>\n      <td>3.997</td>\n      <td>4556.61</td>\n      <td>20.64</td>\n      <td>1.50</td>\n      <td>1601.01</td>\n      <td>3288.25</td>\n      <td>8.684</td>\n      <td>False</td>\n      <td>713173.95</td>\n    </tr>\n  </tbody>\n</table>\n<p>6255 rows × 13 columns</p>\n</div>"
     },
     "execution_count": 150,
     "metadata": {},
     "output_type": "execute_result"
    }
   ],
   "source": [
    "def get_date(date):\n",
    "    newDate = date[6:10]\n",
    "    newDate += date[3:5]\n",
    "    newDate += date[0:2]\n",
    "    return int(newDate)\n",
    "train['Date'] =  train['Date'].apply(get_date)\n",
    "train"
   ],
   "metadata": {
    "collapsed": false,
    "pycharm": {
     "name": "#%%\n"
    }
   }
  },
  {
   "cell_type": "markdown",
   "source": [
    "Date col 을 추출해서 YYYYMMDD 의 숫자형태로 변환"
   ],
   "metadata": {
    "collapsed": false,
    "pycharm": {
     "name": "#%% md\n"
    }
   }
  },
  {
   "cell_type": "code",
   "execution_count": 151,
   "outputs": [
    {
     "data": {
      "text/plain": "        id  Store      Date  Temperature  Fuel_Price  Promotion1  Promotion2  \\\n0        1      1  20100205        42.31       2.572        0.00        0.00   \n1        2      1  20100212        38.51       2.548        0.00        0.00   \n2        3      1  20100219        39.93       2.514        0.00        0.00   \n3        4      1  20100226        46.63       2.561        0.00        0.00   \n4        5      1  20100305        46.50       2.625        0.00        0.00   \n...    ...    ...       ...          ...         ...         ...         ...   \n6250  6251     45  20120831        75.09       3.867    23641.30        6.00   \n6251  6252     45  20120907        75.70       3.911    11024.45       12.80   \n6252  6253     45  20120914        67.87       3.948    11407.95        0.00   \n6253  6254     45  20120921        65.32       4.038     8452.20       92.28   \n6254  6255     45  20120928        64.88       3.997     4556.61       20.64   \n\n      Promotion3  Promotion4  Promotion5  Unemployment  IsHoliday  \\\n0           0.00        0.00        0.00         8.106          0   \n1           0.00        0.00        0.00         8.106          1   \n2           0.00        0.00        0.00         8.106          0   \n3           0.00        0.00        0.00         8.106          0   \n4           0.00        0.00        0.00         8.106          0   \n...          ...         ...         ...           ...        ...   \n6250       92.93     6988.31     3992.13         8.684          0   \n6251       52.63     1854.77     2055.70         8.684          1   \n6252        4.30     3421.72     5268.92         8.684          0   \n6253       63.24     2376.38     8670.40         8.684          0   \n6254        1.50     1601.01     3288.25         8.684          0   \n\n      Weekly_Sales  \n0       1643690.90  \n1       1641957.44  \n2       1611968.17  \n3       1409727.59  \n4       1554806.68  \n...            ...  \n6250     734297.87  \n6251     766512.66  \n6252     702238.27  \n6253     723086.20  \n6254     713173.95  \n\n[6255 rows x 13 columns]",
      "text/html": "<div>\n<style scoped>\n    .dataframe tbody tr th:only-of-type {\n        vertical-align: middle;\n    }\n\n    .dataframe tbody tr th {\n        vertical-align: top;\n    }\n\n    .dataframe thead th {\n        text-align: right;\n    }\n</style>\n<table border=\"1\" class=\"dataframe\">\n  <thead>\n    <tr style=\"text-align: right;\">\n      <th></th>\n      <th>id</th>\n      <th>Store</th>\n      <th>Date</th>\n      <th>Temperature</th>\n      <th>Fuel_Price</th>\n      <th>Promotion1</th>\n      <th>Promotion2</th>\n      <th>Promotion3</th>\n      <th>Promotion4</th>\n      <th>Promotion5</th>\n      <th>Unemployment</th>\n      <th>IsHoliday</th>\n      <th>Weekly_Sales</th>\n    </tr>\n  </thead>\n  <tbody>\n    <tr>\n      <th>0</th>\n      <td>1</td>\n      <td>1</td>\n      <td>20100205</td>\n      <td>42.31</td>\n      <td>2.572</td>\n      <td>0.00</td>\n      <td>0.00</td>\n      <td>0.00</td>\n      <td>0.00</td>\n      <td>0.00</td>\n      <td>8.106</td>\n      <td>0</td>\n      <td>1643690.90</td>\n    </tr>\n    <tr>\n      <th>1</th>\n      <td>2</td>\n      <td>1</td>\n      <td>20100212</td>\n      <td>38.51</td>\n      <td>2.548</td>\n      <td>0.00</td>\n      <td>0.00</td>\n      <td>0.00</td>\n      <td>0.00</td>\n      <td>0.00</td>\n      <td>8.106</td>\n      <td>1</td>\n      <td>1641957.44</td>\n    </tr>\n    <tr>\n      <th>2</th>\n      <td>3</td>\n      <td>1</td>\n      <td>20100219</td>\n      <td>39.93</td>\n      <td>2.514</td>\n      <td>0.00</td>\n      <td>0.00</td>\n      <td>0.00</td>\n      <td>0.00</td>\n      <td>0.00</td>\n      <td>8.106</td>\n      <td>0</td>\n      <td>1611968.17</td>\n    </tr>\n    <tr>\n      <th>3</th>\n      <td>4</td>\n      <td>1</td>\n      <td>20100226</td>\n      <td>46.63</td>\n      <td>2.561</td>\n      <td>0.00</td>\n      <td>0.00</td>\n      <td>0.00</td>\n      <td>0.00</td>\n      <td>0.00</td>\n      <td>8.106</td>\n      <td>0</td>\n      <td>1409727.59</td>\n    </tr>\n    <tr>\n      <th>4</th>\n      <td>5</td>\n      <td>1</td>\n      <td>20100305</td>\n      <td>46.50</td>\n      <td>2.625</td>\n      <td>0.00</td>\n      <td>0.00</td>\n      <td>0.00</td>\n      <td>0.00</td>\n      <td>0.00</td>\n      <td>8.106</td>\n      <td>0</td>\n      <td>1554806.68</td>\n    </tr>\n    <tr>\n      <th>...</th>\n      <td>...</td>\n      <td>...</td>\n      <td>...</td>\n      <td>...</td>\n      <td>...</td>\n      <td>...</td>\n      <td>...</td>\n      <td>...</td>\n      <td>...</td>\n      <td>...</td>\n      <td>...</td>\n      <td>...</td>\n      <td>...</td>\n    </tr>\n    <tr>\n      <th>6250</th>\n      <td>6251</td>\n      <td>45</td>\n      <td>20120831</td>\n      <td>75.09</td>\n      <td>3.867</td>\n      <td>23641.30</td>\n      <td>6.00</td>\n      <td>92.93</td>\n      <td>6988.31</td>\n      <td>3992.13</td>\n      <td>8.684</td>\n      <td>0</td>\n      <td>734297.87</td>\n    </tr>\n    <tr>\n      <th>6251</th>\n      <td>6252</td>\n      <td>45</td>\n      <td>20120907</td>\n      <td>75.70</td>\n      <td>3.911</td>\n      <td>11024.45</td>\n      <td>12.80</td>\n      <td>52.63</td>\n      <td>1854.77</td>\n      <td>2055.70</td>\n      <td>8.684</td>\n      <td>1</td>\n      <td>766512.66</td>\n    </tr>\n    <tr>\n      <th>6252</th>\n      <td>6253</td>\n      <td>45</td>\n      <td>20120914</td>\n      <td>67.87</td>\n      <td>3.948</td>\n      <td>11407.95</td>\n      <td>0.00</td>\n      <td>4.30</td>\n      <td>3421.72</td>\n      <td>5268.92</td>\n      <td>8.684</td>\n      <td>0</td>\n      <td>702238.27</td>\n    </tr>\n    <tr>\n      <th>6253</th>\n      <td>6254</td>\n      <td>45</td>\n      <td>20120921</td>\n      <td>65.32</td>\n      <td>4.038</td>\n      <td>8452.20</td>\n      <td>92.28</td>\n      <td>63.24</td>\n      <td>2376.38</td>\n      <td>8670.40</td>\n      <td>8.684</td>\n      <td>0</td>\n      <td>723086.20</td>\n    </tr>\n    <tr>\n      <th>6254</th>\n      <td>6255</td>\n      <td>45</td>\n      <td>20120928</td>\n      <td>64.88</td>\n      <td>3.997</td>\n      <td>4556.61</td>\n      <td>20.64</td>\n      <td>1.50</td>\n      <td>1601.01</td>\n      <td>3288.25</td>\n      <td>8.684</td>\n      <td>0</td>\n      <td>713173.95</td>\n    </tr>\n  </tbody>\n</table>\n<p>6255 rows × 13 columns</p>\n</div>"
     },
     "execution_count": 151,
     "metadata": {},
     "output_type": "execute_result"
    }
   ],
   "source": [
    "def holiday_to_number(isholiday):\n",
    "    number = 1 if isholiday == True else 0\n",
    "    return number\n",
    "train['IsHoliday'] = train['IsHoliday'].apply(holiday_to_number)\n",
    "train"
   ],
   "metadata": {
    "collapsed": false,
    "pycharm": {
     "name": "#%%\n"
    }
   }
  },
  {
   "cell_type": "markdown",
   "source": [
    "Boolean 으로 되어있는 IsHoliday 를 0,1 의 숫자형태로 변환"
   ],
   "metadata": {
    "collapsed": false,
    "pycharm": {
     "name": "#%% md\n"
    }
   }
  },
  {
   "cell_type": "code",
   "execution_count": 152,
   "outputs": [
    {
     "data": {
      "text/plain": "      id  Store      Date  Temperature  Fuel_Price  Promotion1  Promotion2  \\\n0      1      1  20121005        68.55       3.617     8077.89        0.00   \n1      2      1  20121012        62.99       3.601     2086.18        0.00   \n2      3      1  20121019        67.97       3.594      950.33        0.00   \n3      4      1  20121026        69.16       3.506     2585.85       31.75   \n4      5      2  20121005        70.27       3.617     6037.76        0.00   \n..   ...    ...       ...          ...         ...         ...         ...   \n175  176     44  20121026        46.97       3.755       38.65        2.61   \n176  177     45  20121005        64.89       3.985     5046.74        0.00   \n177  178     45  20121012        54.47       4.000     1956.28        0.00   \n178  179     45  20121019        56.47       3.969     2004.02        0.00   \n179  180     45  20121026        58.85       3.882     4018.91       58.08   \n\n     Promotion3  Promotion4  Promotion5  Unemployment  IsHoliday  \n0         18.22     3617.43     3626.14         6.573          0  \n1          8.11      602.36     5926.45         6.573          0  \n2          4.93       80.25     2312.85         6.573          0  \n3          6.00     1057.16     1305.01         6.573          0  \n4         10.04     3027.37     3853.40         6.170          0  \n..          ...         ...         ...           ...        ...  \n175        0.98        0.00      457.74         5.217          0  \n176       18.82     2253.43     2340.01         8.667          0  \n177        7.89      599.32     3990.54         8.667          0  \n178        3.18      437.73     1537.49         8.667          0  \n179      100.00      211.94      858.33         8.667          0  \n\n[180 rows x 12 columns]",
      "text/html": "<div>\n<style scoped>\n    .dataframe tbody tr th:only-of-type {\n        vertical-align: middle;\n    }\n\n    .dataframe tbody tr th {\n        vertical-align: top;\n    }\n\n    .dataframe thead th {\n        text-align: right;\n    }\n</style>\n<table border=\"1\" class=\"dataframe\">\n  <thead>\n    <tr style=\"text-align: right;\">\n      <th></th>\n      <th>id</th>\n      <th>Store</th>\n      <th>Date</th>\n      <th>Temperature</th>\n      <th>Fuel_Price</th>\n      <th>Promotion1</th>\n      <th>Promotion2</th>\n      <th>Promotion3</th>\n      <th>Promotion4</th>\n      <th>Promotion5</th>\n      <th>Unemployment</th>\n      <th>IsHoliday</th>\n    </tr>\n  </thead>\n  <tbody>\n    <tr>\n      <th>0</th>\n      <td>1</td>\n      <td>1</td>\n      <td>20121005</td>\n      <td>68.55</td>\n      <td>3.617</td>\n      <td>8077.89</td>\n      <td>0.00</td>\n      <td>18.22</td>\n      <td>3617.43</td>\n      <td>3626.14</td>\n      <td>6.573</td>\n      <td>0</td>\n    </tr>\n    <tr>\n      <th>1</th>\n      <td>2</td>\n      <td>1</td>\n      <td>20121012</td>\n      <td>62.99</td>\n      <td>3.601</td>\n      <td>2086.18</td>\n      <td>0.00</td>\n      <td>8.11</td>\n      <td>602.36</td>\n      <td>5926.45</td>\n      <td>6.573</td>\n      <td>0</td>\n    </tr>\n    <tr>\n      <th>2</th>\n      <td>3</td>\n      <td>1</td>\n      <td>20121019</td>\n      <td>67.97</td>\n      <td>3.594</td>\n      <td>950.33</td>\n      <td>0.00</td>\n      <td>4.93</td>\n      <td>80.25</td>\n      <td>2312.85</td>\n      <td>6.573</td>\n      <td>0</td>\n    </tr>\n    <tr>\n      <th>3</th>\n      <td>4</td>\n      <td>1</td>\n      <td>20121026</td>\n      <td>69.16</td>\n      <td>3.506</td>\n      <td>2585.85</td>\n      <td>31.75</td>\n      <td>6.00</td>\n      <td>1057.16</td>\n      <td>1305.01</td>\n      <td>6.573</td>\n      <td>0</td>\n    </tr>\n    <tr>\n      <th>4</th>\n      <td>5</td>\n      <td>2</td>\n      <td>20121005</td>\n      <td>70.27</td>\n      <td>3.617</td>\n      <td>6037.76</td>\n      <td>0.00</td>\n      <td>10.04</td>\n      <td>3027.37</td>\n      <td>3853.40</td>\n      <td>6.170</td>\n      <td>0</td>\n    </tr>\n    <tr>\n      <th>...</th>\n      <td>...</td>\n      <td>...</td>\n      <td>...</td>\n      <td>...</td>\n      <td>...</td>\n      <td>...</td>\n      <td>...</td>\n      <td>...</td>\n      <td>...</td>\n      <td>...</td>\n      <td>...</td>\n      <td>...</td>\n    </tr>\n    <tr>\n      <th>175</th>\n      <td>176</td>\n      <td>44</td>\n      <td>20121026</td>\n      <td>46.97</td>\n      <td>3.755</td>\n      <td>38.65</td>\n      <td>2.61</td>\n      <td>0.98</td>\n      <td>0.00</td>\n      <td>457.74</td>\n      <td>5.217</td>\n      <td>0</td>\n    </tr>\n    <tr>\n      <th>176</th>\n      <td>177</td>\n      <td>45</td>\n      <td>20121005</td>\n      <td>64.89</td>\n      <td>3.985</td>\n      <td>5046.74</td>\n      <td>0.00</td>\n      <td>18.82</td>\n      <td>2253.43</td>\n      <td>2340.01</td>\n      <td>8.667</td>\n      <td>0</td>\n    </tr>\n    <tr>\n      <th>177</th>\n      <td>178</td>\n      <td>45</td>\n      <td>20121012</td>\n      <td>54.47</td>\n      <td>4.000</td>\n      <td>1956.28</td>\n      <td>0.00</td>\n      <td>7.89</td>\n      <td>599.32</td>\n      <td>3990.54</td>\n      <td>8.667</td>\n      <td>0</td>\n    </tr>\n    <tr>\n      <th>178</th>\n      <td>179</td>\n      <td>45</td>\n      <td>20121019</td>\n      <td>56.47</td>\n      <td>3.969</td>\n      <td>2004.02</td>\n      <td>0.00</td>\n      <td>3.18</td>\n      <td>437.73</td>\n      <td>1537.49</td>\n      <td>8.667</td>\n      <td>0</td>\n    </tr>\n    <tr>\n      <th>179</th>\n      <td>180</td>\n      <td>45</td>\n      <td>20121026</td>\n      <td>58.85</td>\n      <td>3.882</td>\n      <td>4018.91</td>\n      <td>58.08</td>\n      <td>100.00</td>\n      <td>211.94</td>\n      <td>858.33</td>\n      <td>8.667</td>\n      <td>0</td>\n    </tr>\n  </tbody>\n</table>\n<p>180 rows × 12 columns</p>\n</div>"
     },
     "execution_count": 152,
     "metadata": {},
     "output_type": "execute_result"
    }
   ],
   "source": [
    "test = test.fillna(0)\n",
    "test['Date'] = test['Date'].apply(get_date)\n",
    "test['IsHoliday'] = test['IsHoliday'].apply(holiday_to_number)\n",
    "test"
   ],
   "metadata": {
    "collapsed": false,
    "pycharm": {
     "name": "#%%\n"
    }
   }
  },
  {
   "cell_type": "markdown",
   "source": [
    "test set 도 data processing"
   ],
   "metadata": {
    "collapsed": false,
    "pycharm": {
     "name": "#%% md\n"
    }
   }
  },
  {
   "cell_type": "code",
   "execution_count": 153,
   "outputs": [
    {
     "data": {
      "text/plain": "LinearRegression()",
      "text/html": "<style>#sk-container-id-6 {color: black;background-color: white;}#sk-container-id-6 pre{padding: 0;}#sk-container-id-6 div.sk-toggleable {background-color: white;}#sk-container-id-6 label.sk-toggleable__label {cursor: pointer;display: block;width: 100%;margin-bottom: 0;padding: 0.3em;box-sizing: border-box;text-align: center;}#sk-container-id-6 label.sk-toggleable__label-arrow:before {content: \"▸\";float: left;margin-right: 0.25em;color: #696969;}#sk-container-id-6 label.sk-toggleable__label-arrow:hover:before {color: black;}#sk-container-id-6 div.sk-estimator:hover label.sk-toggleable__label-arrow:before {color: black;}#sk-container-id-6 div.sk-toggleable__content {max-height: 0;max-width: 0;overflow: hidden;text-align: left;background-color: #f0f8ff;}#sk-container-id-6 div.sk-toggleable__content pre {margin: 0.2em;color: black;border-radius: 0.25em;background-color: #f0f8ff;}#sk-container-id-6 input.sk-toggleable__control:checked~div.sk-toggleable__content {max-height: 200px;max-width: 100%;overflow: auto;}#sk-container-id-6 input.sk-toggleable__control:checked~label.sk-toggleable__label-arrow:before {content: \"▾\";}#sk-container-id-6 div.sk-estimator input.sk-toggleable__control:checked~label.sk-toggleable__label {background-color: #d4ebff;}#sk-container-id-6 div.sk-label input.sk-toggleable__control:checked~label.sk-toggleable__label {background-color: #d4ebff;}#sk-container-id-6 input.sk-hidden--visually {border: 0;clip: rect(1px 1px 1px 1px);clip: rect(1px, 1px, 1px, 1px);height: 1px;margin: -1px;overflow: hidden;padding: 0;position: absolute;width: 1px;}#sk-container-id-6 div.sk-estimator {font-family: monospace;background-color: #f0f8ff;border: 1px dotted black;border-radius: 0.25em;box-sizing: border-box;margin-bottom: 0.5em;}#sk-container-id-6 div.sk-estimator:hover {background-color: #d4ebff;}#sk-container-id-6 div.sk-parallel-item::after {content: \"\";width: 100%;border-bottom: 1px solid gray;flex-grow: 1;}#sk-container-id-6 div.sk-label:hover label.sk-toggleable__label {background-color: #d4ebff;}#sk-container-id-6 div.sk-serial::before {content: \"\";position: absolute;border-left: 1px solid gray;box-sizing: border-box;top: 0;bottom: 0;left: 50%;z-index: 0;}#sk-container-id-6 div.sk-serial {display: flex;flex-direction: column;align-items: center;background-color: white;padding-right: 0.2em;padding-left: 0.2em;position: relative;}#sk-container-id-6 div.sk-item {position: relative;z-index: 1;}#sk-container-id-6 div.sk-parallel {display: flex;align-items: stretch;justify-content: center;background-color: white;position: relative;}#sk-container-id-6 div.sk-item::before, #sk-container-id-6 div.sk-parallel-item::before {content: \"\";position: absolute;border-left: 1px solid gray;box-sizing: border-box;top: 0;bottom: 0;left: 50%;z-index: -1;}#sk-container-id-6 div.sk-parallel-item {display: flex;flex-direction: column;z-index: 1;position: relative;background-color: white;}#sk-container-id-6 div.sk-parallel-item:first-child::after {align-self: flex-end;width: 50%;}#sk-container-id-6 div.sk-parallel-item:last-child::after {align-self: flex-start;width: 50%;}#sk-container-id-6 div.sk-parallel-item:only-child::after {width: 0;}#sk-container-id-6 div.sk-dashed-wrapped {border: 1px dashed gray;margin: 0 0.4em 0.5em 0.4em;box-sizing: border-box;padding-bottom: 0.4em;background-color: white;}#sk-container-id-6 div.sk-label label {font-family: monospace;font-weight: bold;display: inline-block;line-height: 1.2em;}#sk-container-id-6 div.sk-label-container {text-align: center;}#sk-container-id-6 div.sk-container {/* jupyter's `normalize.less` sets `[hidden] { display: none; }` but bootstrap.min.css set `[hidden] { display: none !important; }` so we also need the `!important` here to be able to override the default hidden behavior on the sphinx rendered scikit-learn.org. See: https://github.com/scikit-learn/scikit-learn/issues/21755 */display: inline-block !important;position: relative;}#sk-container-id-6 div.sk-text-repr-fallback {display: none;}</style><div id=\"sk-container-id-6\" class=\"sk-top-container\"><div class=\"sk-text-repr-fallback\"><pre>LinearRegression()</pre><b>In a Jupyter environment, please rerun this cell to show the HTML representation or trust the notebook. <br />On GitHub, the HTML representation is unable to render, please try loading this page with nbviewer.org.</b></div><div class=\"sk-container\" hidden><div class=\"sk-item\"><div class=\"sk-estimator sk-toggleable\"><input class=\"sk-toggleable__control sk-hidden--visually\" id=\"sk-estimator-id-6\" type=\"checkbox\" checked><label for=\"sk-estimator-id-6\" class=\"sk-toggleable__label sk-toggleable__label-arrow\">LinearRegression</label><div class=\"sk-toggleable__content\"><pre>LinearRegression()</pre></div></div></div></div></div>"
     },
     "execution_count": 153,
     "metadata": {},
     "output_type": "execute_result"
    }
   ],
   "source": [
    "from sklearn.linear_model import LinearRegression\n",
    "\n",
    "# 모델 선언\n",
    "model = LinearRegression()\n",
    "\n",
    "# 분석 의미 없는 id 제거\n",
    "train = train.drop(columns=['id'])\n",
    "test = test.drop(columns=['id'])\n",
    "\n",
    "# 학습에 사용할 정보와 예측하고자 하는 정보를 분리\n",
    "x_train = train.drop(columns=['Weekly_Sales'])\n",
    "y_train = train['Weekly_Sales']\n",
    "\n",
    "model.fit(x_train,y_train)"
   ],
   "metadata": {
    "collapsed": false,
    "pycharm": {
     "name": "#%%\n"
    }
   }
  },
  {
   "cell_type": "markdown",
   "source": [
    "fit()메소드를 사용해 모델 학습"
   ],
   "metadata": {
    "collapsed": false,
    "pycharm": {
     "name": "#%% md\n"
    }
   }
  },
  {
   "cell_type": "code",
   "execution_count": 154,
   "outputs": [
    {
     "name": "stdout",
     "output_type": "stream",
     "text": [
      "[1285506.9104259  1232370.26168644 1122499.82146025 1101443.28590918\n",
      " 1244055.18729818 1331340.5675348  1188846.31519544 1212635.38487136\n",
      " 1084495.50105548 1055718.61522686 1107928.82202089 1013007.67883384\n",
      " 1337047.39753509 1312551.03650224 1325568.23152494 1256841.9999305\n",
      " 1106653.23493409 1131280.44433832 1055060.95868158 1035959.09844303\n",
      " 1324725.76512444 1245668.83768654 1129031.63730729 1160664.47498488\n",
      " 1109121.18632925 1051002.65329385 1162851.52769041 1092438.84732485\n",
      " 1121451.86383891 1130048.61292243 1097720.09002829 1057879.84470081\n",
      " 1070219.79638255 1065013.06833756 1057719.56199849  997793.0376519\n",
      " 1350490.02370596 1390337.88095915 1280650.10906935 1331612.80350721\n",
      " 1155709.16739166 1263373.33772421 1028454.51823533 1062454.86789143\n",
      " 1128794.22251689 1202771.54165208 1155550.37874699 1412004.95380795\n",
      " 1267973.40484512 1273172.16560066 1193345.42617428 1313998.85161936\n",
      " 1192920.97513652 1189698.3320452  1121988.4301579  1144473.52168047\n",
      " 1087342.08746111 1135488.7650497  1052885.11506188 1105827.79134357\n",
      " 1078931.66199243 1074117.64347744 1005239.45138037 1002469.11450231\n",
      " 1060089.93003762 1054707.65524077  983412.16052818 1075777.17201257\n",
      " 1113772.36730862 1057225.11398566  994701.84811032 1026777.6361798\n",
      " 1159189.59296656 1155997.13867295 1061237.85263455 1076566.76604104\n",
      " 1070192.40705001 1187116.59518003 1071062.44478416 1131193.97787642\n",
      " 1032101.23077106  963057.89826632  981492.33539534  972880.24831998\n",
      " 1063036.97456992 1016799.7894839  1008467.99896336 1021718.12043154\n",
      " 1112548.71381414 1107916.81165206 1012814.62874925 1033011.293329\n",
      " 1110132.93021667 1068170.35325658 1082553.90333605 1135246.70248342\n",
      "  972086.12424052  988561.85149014  982297.89033318  920659.15615547\n",
      "  976548.63088942 1055466.12234998  942644.78108656  906244.26838505\n",
      " 1300048.81498826 1074199.22229862  968168.40381551 1026788.98098457\n",
      "  938859.87312531 1027767.71585405  986148.29776216  978393.00188851\n",
      "  888190.25165272  820512.16577137  857880.22335184  848134.79999864\n",
      "  688260.76353264  754168.09836686  690555.49983013  649886.24184287\n",
      "  853392.80239534 1021234.9305464   905175.05765915  994826.7152046\n",
      "  888694.23953569  875082.4774785   816380.63339531  893182.70889497\n",
      "  777598.82758963  861179.78781617  862278.7337147   831282.07701242\n",
      "  693878.53609502  783696.26243532  652495.57932913  602527.30396247\n",
      "  853934.87755668  845703.53500342  769875.43544376  793732.05715001\n",
      "  609308.35072446  605315.08502603  584325.05997491  574399.5460093\n",
      "  605613.98154509  616119.4322331   585375.720276    579413.02921045\n",
      "  608530.85439718  740718.48111796  734823.43603206  691346.50172377\n",
      "  794270.1619612   930760.31612504  845527.22948837  711786.95938706\n",
      "  845236.54047346  902660.69931829  794359.79825914  797128.61840308\n",
      "  792754.42379951  954118.73039138  835429.06060207  719383.84539294\n",
      "  692826.20451403  752257.09109056  739988.10373747  711845.51409352\n",
      "  505823.62596917  455102.31311655  454520.11722445  426545.76807451\n",
      "  590826.39299846  598860.92805421  588125.80724037  585213.39450943\n",
      "  672984.18105161  673650.06695294  609247.07033217  610083.38156712]\n"
     ]
    }
   ],
   "source": [
    "prediction = model.predict(test)\n",
    "print(prediction)"
   ],
   "metadata": {
    "collapsed": false,
    "pycharm": {
     "name": "#%%\n"
    }
   }
  },
  {
   "cell_type": "markdown",
   "source": [
    "학습된 모델을 이용해 평가 데이터셋의 예측값 출력\n",
    "sklearn을 이용해 선언된 모델은 predict() 메소드를 이용해 간단한 결과값 예측 가능"
   ],
   "metadata": {
    "collapsed": false,
    "pycharm": {
     "name": "#%% md\n"
    }
   }
  },
  {
   "cell_type": "code",
   "execution_count": 155,
   "outputs": [
    {
     "data": {
      "text/plain": "      id  Weekly_Sales\n0      1  1.285507e+06\n1      2  1.232370e+06\n2      3  1.122500e+06\n3      4  1.101443e+06\n4      5  1.244055e+06\n..   ...           ...\n175  176  5.852134e+05\n176  177  6.729842e+05\n177  178  6.736501e+05\n178  179  6.092471e+05\n179  180  6.100834e+05\n\n[180 rows x 2 columns]",
      "text/html": "<div>\n<style scoped>\n    .dataframe tbody tr th:only-of-type {\n        vertical-align: middle;\n    }\n\n    .dataframe tbody tr th {\n        vertical-align: top;\n    }\n\n    .dataframe thead th {\n        text-align: right;\n    }\n</style>\n<table border=\"1\" class=\"dataframe\">\n  <thead>\n    <tr style=\"text-align: right;\">\n      <th></th>\n      <th>id</th>\n      <th>Weekly_Sales</th>\n    </tr>\n  </thead>\n  <tbody>\n    <tr>\n      <th>0</th>\n      <td>1</td>\n      <td>1.285507e+06</td>\n    </tr>\n    <tr>\n      <th>1</th>\n      <td>2</td>\n      <td>1.232370e+06</td>\n    </tr>\n    <tr>\n      <th>2</th>\n      <td>3</td>\n      <td>1.122500e+06</td>\n    </tr>\n    <tr>\n      <th>3</th>\n      <td>4</td>\n      <td>1.101443e+06</td>\n    </tr>\n    <tr>\n      <th>4</th>\n      <td>5</td>\n      <td>1.244055e+06</td>\n    </tr>\n    <tr>\n      <th>...</th>\n      <td>...</td>\n      <td>...</td>\n    </tr>\n    <tr>\n      <th>175</th>\n      <td>176</td>\n      <td>5.852134e+05</td>\n    </tr>\n    <tr>\n      <th>176</th>\n      <td>177</td>\n      <td>6.729842e+05</td>\n    </tr>\n    <tr>\n      <th>177</th>\n      <td>178</td>\n      <td>6.736501e+05</td>\n    </tr>\n    <tr>\n      <th>178</th>\n      <td>179</td>\n      <td>6.092471e+05</td>\n    </tr>\n    <tr>\n      <th>179</th>\n      <td>180</td>\n      <td>6.100834e+05</td>\n    </tr>\n  </tbody>\n</table>\n<p>180 rows × 2 columns</p>\n</div>"
     },
     "execution_count": 155,
     "metadata": {},
     "output_type": "execute_result"
    }
   ],
   "source": [
    "sample_submission['Weekly_Sales'] = prediction\n",
    "sample_submission.to_csv('./dataset/submission.csv',index = False)\n",
    "sample_submission"
   ],
   "metadata": {
    "collapsed": false,
    "pycharm": {
     "name": "#%%\n"
    }
   }
  },
  {
   "cell_type": "code",
   "execution_count": 155,
   "outputs": [],
   "source": [],
   "metadata": {
    "collapsed": false,
    "pycharm": {
     "name": "#%%\n"
    }
   }
  },
  {
   "cell_type": "code",
   "execution_count": 155,
   "outputs": [],
   "source": [],
   "metadata": {
    "collapsed": false,
    "pycharm": {
     "name": "#%%\n"
    }
   }
  }
 ],
 "metadata": {
  "kernelspec": {
   "display_name": "Python 3",
   "language": "python",
   "name": "python3"
  },
  "language_info": {
   "codemirror_mode": {
    "name": "ipython",
    "version": 2
   },
   "file_extension": ".py",
   "mimetype": "text/x-python",
   "name": "python",
   "nbconvert_exporter": "python",
   "pygments_lexer": "ipython2",
   "version": "2.7.6"
  }
 },
 "nbformat": 4,
 "nbformat_minor": 0
}