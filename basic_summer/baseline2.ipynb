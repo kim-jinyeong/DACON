{
 "cells": [
  {
   "cell_type": "code",
   "execution_count": 80,
   "outputs": [
    {
     "name": "stdout",
     "output_type": "stream",
     "text": [
      "<class 'pandas.core.frame.DataFrame'>\n",
      "RangeIndex: 6255 entries, 0 to 6254\n",
      "Data columns (total 13 columns):\n",
      " #   Column        Non-Null Count  Dtype  \n",
      "---  ------        --------------  -----  \n",
      " 0   id            6255 non-null   int64  \n",
      " 1   Store         6255 non-null   int64  \n",
      " 2   Date          6255 non-null   object \n",
      " 3   Temperature   6255 non-null   float64\n",
      " 4   Fuel_Price    6255 non-null   float64\n",
      " 5   Promotion1    2102 non-null   float64\n",
      " 6   Promotion2    1592 non-null   float64\n",
      " 7   Promotion3    1885 non-null   float64\n",
      " 8   Promotion4    1819 non-null   float64\n",
      " 9   Promotion5    2115 non-null   float64\n",
      " 10  Unemployment  6255 non-null   float64\n",
      " 11  IsHoliday     6255 non-null   bool   \n",
      " 12  Weekly_Sales  6255 non-null   float64\n",
      "dtypes: bool(1), float64(9), int64(2), object(1)\n",
      "memory usage: 592.6+ KB\n"
     ]
    }
   ],
   "source": [
    "import pandas as pd\n",
    "train = pd.read_csv('./dataset/train.csv')\n",
    "test = pd.read_csv('./dataset/test.csv')\n",
    "sample_submission = pd.read_csv('./dataset/sample_submission.csv')\n",
    "train.info()"
   ],
   "metadata": {
    "collapsed": false,
    "pycharm": {
     "name": "#%%\n"
    }
   }
  },
  {
   "cell_type": "code",
   "execution_count": 81,
   "outputs": [
    {
     "data": {
      "text/plain": "         Promotion1     Promotion2     Promotion3    Promotion4     Promotion5\ncount   2102.000000    1592.000000    1885.000000   1819.000000    2115.000000\nmean    7155.930661    3308.125810    1462.535523   3465.952501    4518.993173\nstd     8408.206085    9382.823804    9667.580258   6413.116294    6048.661908\nmin        0.270000    -265.760000     -29.100000      0.410000     135.160000\n25%     1844.295000      39.755000       4.700000    499.895000    1742.305000\n50%     5221.140000     205.410000      24.600000   1532.630000    3226.410000\n75%     9199.242500    1931.005000     104.010000   3640.905000    5444.030000\nmax    88646.760000  104519.540000  141630.610000  67474.850000  108519.280000",
      "text/html": "<div>\n<style scoped>\n    .dataframe tbody tr th:only-of-type {\n        vertical-align: middle;\n    }\n\n    .dataframe tbody tr th {\n        vertical-align: top;\n    }\n\n    .dataframe thead th {\n        text-align: right;\n    }\n</style>\n<table border=\"1\" class=\"dataframe\">\n  <thead>\n    <tr style=\"text-align: right;\">\n      <th></th>\n      <th>Promotion1</th>\n      <th>Promotion2</th>\n      <th>Promotion3</th>\n      <th>Promotion4</th>\n      <th>Promotion5</th>\n    </tr>\n  </thead>\n  <tbody>\n    <tr>\n      <th>count</th>\n      <td>2102.000000</td>\n      <td>1592.000000</td>\n      <td>1885.000000</td>\n      <td>1819.000000</td>\n      <td>2115.000000</td>\n    </tr>\n    <tr>\n      <th>mean</th>\n      <td>7155.930661</td>\n      <td>3308.125810</td>\n      <td>1462.535523</td>\n      <td>3465.952501</td>\n      <td>4518.993173</td>\n    </tr>\n    <tr>\n      <th>std</th>\n      <td>8408.206085</td>\n      <td>9382.823804</td>\n      <td>9667.580258</td>\n      <td>6413.116294</td>\n      <td>6048.661908</td>\n    </tr>\n    <tr>\n      <th>min</th>\n      <td>0.270000</td>\n      <td>-265.760000</td>\n      <td>-29.100000</td>\n      <td>0.410000</td>\n      <td>135.160000</td>\n    </tr>\n    <tr>\n      <th>25%</th>\n      <td>1844.295000</td>\n      <td>39.755000</td>\n      <td>4.700000</td>\n      <td>499.895000</td>\n      <td>1742.305000</td>\n    </tr>\n    <tr>\n      <th>50%</th>\n      <td>5221.140000</td>\n      <td>205.410000</td>\n      <td>24.600000</td>\n      <td>1532.630000</td>\n      <td>3226.410000</td>\n    </tr>\n    <tr>\n      <th>75%</th>\n      <td>9199.242500</td>\n      <td>1931.005000</td>\n      <td>104.010000</td>\n      <td>3640.905000</td>\n      <td>5444.030000</td>\n    </tr>\n    <tr>\n      <th>max</th>\n      <td>88646.760000</td>\n      <td>104519.540000</td>\n      <td>141630.610000</td>\n      <td>67474.850000</td>\n      <td>108519.280000</td>\n    </tr>\n  </tbody>\n</table>\n</div>"
     },
     "execution_count": 81,
     "metadata": {},
     "output_type": "execute_result"
    }
   ],
   "source": [
    "train[['Promotion1', 'Promotion2', 'Promotion3', 'Promotion4', 'Promotion5']].describe()"
   ],
   "metadata": {
    "collapsed": false,
    "pycharm": {
     "name": "#%%\n"
    }
   }
  },
  {
   "cell_type": "code",
   "execution_count": 82,
   "outputs": [
    {
     "data": {
      "text/plain": "        id  Store  Temperature  Fuel_Price  Promotion1  Promotion2  \\\n0        1      1        42.31       2.572        0.00        0.00   \n1        2      1        38.51       2.548        0.00        0.00   \n2        3      1        39.93       2.514        0.00        0.00   \n3        4      1        46.63       2.561        0.00        0.00   \n4        5      1        46.50       2.625        0.00        0.00   \n...    ...    ...          ...         ...         ...         ...   \n6250  6251     45        75.09       3.867    23641.30        6.00   \n6251  6252     45        75.70       3.911    11024.45       12.80   \n6252  6253     45        67.87       3.948    11407.95        0.00   \n6253  6254     45        65.32       4.038     8452.20       92.28   \n6254  6255     45        64.88       3.997     4556.61       20.64   \n\n      Promotion3  Promotion4  Promotion5  Unemployment  IsHoliday  \\\n0           0.00        0.00        0.00         8.106      False   \n1           0.00        0.00        0.00         8.106       True   \n2           0.00        0.00        0.00         8.106      False   \n3           0.00        0.00        0.00         8.106      False   \n4           0.00        0.00        0.00         8.106      False   \n...          ...         ...         ...           ...        ...   \n6250       92.93     6988.31     3992.13         8.684      False   \n6251       52.63     1854.77     2055.70         8.684       True   \n6252        4.30     3421.72     5268.92         8.684      False   \n6253       63.24     2376.38     8670.40         8.684      False   \n6254        1.50     1601.01     3288.25         8.684      False   \n\n      Weekly_Sales  Year  Month  \n0       1643690.90  2010      2  \n1       1641957.44  2010      2  \n2       1611968.17  2010      2  \n3       1409727.59  2010      2  \n4       1554806.68  2010      3  \n...            ...   ...    ...  \n6250     734297.87  2012      8  \n6251     766512.66  2012      9  \n6252     702238.27  2012      9  \n6253     723086.20  2012      9  \n6254     713173.95  2012      9  \n\n[6255 rows x 14 columns]",
      "text/html": "<div>\n<style scoped>\n    .dataframe tbody tr th:only-of-type {\n        vertical-align: middle;\n    }\n\n    .dataframe tbody tr th {\n        vertical-align: top;\n    }\n\n    .dataframe thead th {\n        text-align: right;\n    }\n</style>\n<table border=\"1\" class=\"dataframe\">\n  <thead>\n    <tr style=\"text-align: right;\">\n      <th></th>\n      <th>id</th>\n      <th>Store</th>\n      <th>Temperature</th>\n      <th>Fuel_Price</th>\n      <th>Promotion1</th>\n      <th>Promotion2</th>\n      <th>Promotion3</th>\n      <th>Promotion4</th>\n      <th>Promotion5</th>\n      <th>Unemployment</th>\n      <th>IsHoliday</th>\n      <th>Weekly_Sales</th>\n      <th>Year</th>\n      <th>Month</th>\n    </tr>\n  </thead>\n  <tbody>\n    <tr>\n      <th>0</th>\n      <td>1</td>\n      <td>1</td>\n      <td>42.31</td>\n      <td>2.572</td>\n      <td>0.00</td>\n      <td>0.00</td>\n      <td>0.00</td>\n      <td>0.00</td>\n      <td>0.00</td>\n      <td>8.106</td>\n      <td>False</td>\n      <td>1643690.90</td>\n      <td>2010</td>\n      <td>2</td>\n    </tr>\n    <tr>\n      <th>1</th>\n      <td>2</td>\n      <td>1</td>\n      <td>38.51</td>\n      <td>2.548</td>\n      <td>0.00</td>\n      <td>0.00</td>\n      <td>0.00</td>\n      <td>0.00</td>\n      <td>0.00</td>\n      <td>8.106</td>\n      <td>True</td>\n      <td>1641957.44</td>\n      <td>2010</td>\n      <td>2</td>\n    </tr>\n    <tr>\n      <th>2</th>\n      <td>3</td>\n      <td>1</td>\n      <td>39.93</td>\n      <td>2.514</td>\n      <td>0.00</td>\n      <td>0.00</td>\n      <td>0.00</td>\n      <td>0.00</td>\n      <td>0.00</td>\n      <td>8.106</td>\n      <td>False</td>\n      <td>1611968.17</td>\n      <td>2010</td>\n      <td>2</td>\n    </tr>\n    <tr>\n      <th>3</th>\n      <td>4</td>\n      <td>1</td>\n      <td>46.63</td>\n      <td>2.561</td>\n      <td>0.00</td>\n      <td>0.00</td>\n      <td>0.00</td>\n      <td>0.00</td>\n      <td>0.00</td>\n      <td>8.106</td>\n      <td>False</td>\n      <td>1409727.59</td>\n      <td>2010</td>\n      <td>2</td>\n    </tr>\n    <tr>\n      <th>4</th>\n      <td>5</td>\n      <td>1</td>\n      <td>46.50</td>\n      <td>2.625</td>\n      <td>0.00</td>\n      <td>0.00</td>\n      <td>0.00</td>\n      <td>0.00</td>\n      <td>0.00</td>\n      <td>8.106</td>\n      <td>False</td>\n      <td>1554806.68</td>\n      <td>2010</td>\n      <td>3</td>\n    </tr>\n    <tr>\n      <th>...</th>\n      <td>...</td>\n      <td>...</td>\n      <td>...</td>\n      <td>...</td>\n      <td>...</td>\n      <td>...</td>\n      <td>...</td>\n      <td>...</td>\n      <td>...</td>\n      <td>...</td>\n      <td>...</td>\n      <td>...</td>\n      <td>...</td>\n      <td>...</td>\n    </tr>\n    <tr>\n      <th>6250</th>\n      <td>6251</td>\n      <td>45</td>\n      <td>75.09</td>\n      <td>3.867</td>\n      <td>23641.30</td>\n      <td>6.00</td>\n      <td>92.93</td>\n      <td>6988.31</td>\n      <td>3992.13</td>\n      <td>8.684</td>\n      <td>False</td>\n      <td>734297.87</td>\n      <td>2012</td>\n      <td>8</td>\n    </tr>\n    <tr>\n      <th>6251</th>\n      <td>6252</td>\n      <td>45</td>\n      <td>75.70</td>\n      <td>3.911</td>\n      <td>11024.45</td>\n      <td>12.80</td>\n      <td>52.63</td>\n      <td>1854.77</td>\n      <td>2055.70</td>\n      <td>8.684</td>\n      <td>True</td>\n      <td>766512.66</td>\n      <td>2012</td>\n      <td>9</td>\n    </tr>\n    <tr>\n      <th>6252</th>\n      <td>6253</td>\n      <td>45</td>\n      <td>67.87</td>\n      <td>3.948</td>\n      <td>11407.95</td>\n      <td>0.00</td>\n      <td>4.30</td>\n      <td>3421.72</td>\n      <td>5268.92</td>\n      <td>8.684</td>\n      <td>False</td>\n      <td>702238.27</td>\n      <td>2012</td>\n      <td>9</td>\n    </tr>\n    <tr>\n      <th>6253</th>\n      <td>6254</td>\n      <td>45</td>\n      <td>65.32</td>\n      <td>4.038</td>\n      <td>8452.20</td>\n      <td>92.28</td>\n      <td>63.24</td>\n      <td>2376.38</td>\n      <td>8670.40</td>\n      <td>8.684</td>\n      <td>False</td>\n      <td>723086.20</td>\n      <td>2012</td>\n      <td>9</td>\n    </tr>\n    <tr>\n      <th>6254</th>\n      <td>6255</td>\n      <td>45</td>\n      <td>64.88</td>\n      <td>3.997</td>\n      <td>4556.61</td>\n      <td>20.64</td>\n      <td>1.50</td>\n      <td>1601.01</td>\n      <td>3288.25</td>\n      <td>8.684</td>\n      <td>False</td>\n      <td>713173.95</td>\n      <td>2012</td>\n      <td>9</td>\n    </tr>\n  </tbody>\n</table>\n<p>6255 rows × 14 columns</p>\n</div>"
     },
     "execution_count": 82,
     "metadata": {},
     "output_type": "execute_result"
    }
   ],
   "source": [
    "train = train.fillna(0)\n",
    "\n",
    "def get_date(date):\n",
    "    year = date[6:10]\n",
    "    month = date[3:5]\n",
    "    return int(year), int(month)\n",
    "\n",
    "train['Year'] = train['Date'].apply(lambda x: get_date(x)[0])\n",
    "train['Month'] = train['Date'].apply(lambda x: get_date(x)[1])\n",
    "\n",
    "train = train.drop(columns=['Date'])\n",
    "train"
   ],
   "metadata": {
    "collapsed": false,
    "pycharm": {
     "name": "#%%\n"
    }
   }
  },
  {
   "cell_type": "code",
   "execution_count": 83,
   "outputs": [
    {
     "data": {
      "text/plain": "        id  Store  Temperature  Fuel_Price  Unemployment  IsHoliday  \\\n0        1      1        42.31       2.572         8.106      False   \n1        2      1        38.51       2.548         8.106       True   \n2        3      1        39.93       2.514         8.106      False   \n3        4      1        46.63       2.561         8.106      False   \n4        5      1        46.50       2.625         8.106      False   \n...    ...    ...          ...         ...           ...        ...   \n6250  6251     45        75.09       3.867         8.684      False   \n6251  6252     45        75.70       3.911         8.684       True   \n6252  6253     45        67.87       3.948         8.684      False   \n6253  6254     45        65.32       4.038         8.684      False   \n6254  6255     45        64.88       3.997         8.684      False   \n\n      Weekly_Sales  Year  Month  Scaled_Promotion1  Scaled_Promotion2  \\\n0       1643690.90  2010      2          -0.405482          -0.170211   \n1       1641957.44  2010      2          -0.405482          -0.170211   \n2       1611968.17  2010      2          -0.405482          -0.170211   \n3       1409727.59  2010      2          -0.405482          -0.170211   \n4       1554806.68  2010      3          -0.405482          -0.170211   \n...            ...   ...    ...                ...                ...   \n6250     734297.87  2012      8           3.580831          -0.168998   \n6251     766512.66  2012      9           1.453422          -0.167623   \n6252     702238.27  2012      9           1.518086          -0.170211   \n6253     723086.20  2012      9           1.019698          -0.151556   \n6254     713173.95  2012      9           0.362838          -0.166038   \n\n      Scaled_Promotion3  Scaled_Promotion4  Scaled_Promotion5  \n0             -0.082414          -0.265323          -0.371303  \n1             -0.082414          -0.265323          -0.371303  \n2             -0.082414          -0.265323          -0.371303  \n3             -0.082414          -0.265323          -0.371303  \n4             -0.082414          -0.265323          -0.371303  \n...                 ...                ...                ...  \n6250          -0.065037           1.574261           0.598779  \n6251          -0.072573           0.222921           0.128229  \n6252          -0.081610           0.635401           0.909037  \n6253          -0.070589           0.360229           1.735591  \n6254          -0.082133           0.156122           0.427737  \n\n[6255 rows x 14 columns]",
      "text/html": "<div>\n<style scoped>\n    .dataframe tbody tr th:only-of-type {\n        vertical-align: middle;\n    }\n\n    .dataframe tbody tr th {\n        vertical-align: top;\n    }\n\n    .dataframe thead th {\n        text-align: right;\n    }\n</style>\n<table border=\"1\" class=\"dataframe\">\n  <thead>\n    <tr style=\"text-align: right;\">\n      <th></th>\n      <th>id</th>\n      <th>Store</th>\n      <th>Temperature</th>\n      <th>Fuel_Price</th>\n      <th>Unemployment</th>\n      <th>IsHoliday</th>\n      <th>Weekly_Sales</th>\n      <th>Year</th>\n      <th>Month</th>\n      <th>Scaled_Promotion1</th>\n      <th>Scaled_Promotion2</th>\n      <th>Scaled_Promotion3</th>\n      <th>Scaled_Promotion4</th>\n      <th>Scaled_Promotion5</th>\n    </tr>\n  </thead>\n  <tbody>\n    <tr>\n      <th>0</th>\n      <td>1</td>\n      <td>1</td>\n      <td>42.31</td>\n      <td>2.572</td>\n      <td>8.106</td>\n      <td>False</td>\n      <td>1643690.90</td>\n      <td>2010</td>\n      <td>2</td>\n      <td>-0.405482</td>\n      <td>-0.170211</td>\n      <td>-0.082414</td>\n      <td>-0.265323</td>\n      <td>-0.371303</td>\n    </tr>\n    <tr>\n      <th>1</th>\n      <td>2</td>\n      <td>1</td>\n      <td>38.51</td>\n      <td>2.548</td>\n      <td>8.106</td>\n      <td>True</td>\n      <td>1641957.44</td>\n      <td>2010</td>\n      <td>2</td>\n      <td>-0.405482</td>\n      <td>-0.170211</td>\n      <td>-0.082414</td>\n      <td>-0.265323</td>\n      <td>-0.371303</td>\n    </tr>\n    <tr>\n      <th>2</th>\n      <td>3</td>\n      <td>1</td>\n      <td>39.93</td>\n      <td>2.514</td>\n      <td>8.106</td>\n      <td>False</td>\n      <td>1611968.17</td>\n      <td>2010</td>\n      <td>2</td>\n      <td>-0.405482</td>\n      <td>-0.170211</td>\n      <td>-0.082414</td>\n      <td>-0.265323</td>\n      <td>-0.371303</td>\n    </tr>\n    <tr>\n      <th>3</th>\n      <td>4</td>\n      <td>1</td>\n      <td>46.63</td>\n      <td>2.561</td>\n      <td>8.106</td>\n      <td>False</td>\n      <td>1409727.59</td>\n      <td>2010</td>\n      <td>2</td>\n      <td>-0.405482</td>\n      <td>-0.170211</td>\n      <td>-0.082414</td>\n      <td>-0.265323</td>\n      <td>-0.371303</td>\n    </tr>\n    <tr>\n      <th>4</th>\n      <td>5</td>\n      <td>1</td>\n      <td>46.50</td>\n      <td>2.625</td>\n      <td>8.106</td>\n      <td>False</td>\n      <td>1554806.68</td>\n      <td>2010</td>\n      <td>3</td>\n      <td>-0.405482</td>\n      <td>-0.170211</td>\n      <td>-0.082414</td>\n      <td>-0.265323</td>\n      <td>-0.371303</td>\n    </tr>\n    <tr>\n      <th>...</th>\n      <td>...</td>\n      <td>...</td>\n      <td>...</td>\n      <td>...</td>\n      <td>...</td>\n      <td>...</td>\n      <td>...</td>\n      <td>...</td>\n      <td>...</td>\n      <td>...</td>\n      <td>...</td>\n      <td>...</td>\n      <td>...</td>\n      <td>...</td>\n    </tr>\n    <tr>\n      <th>6250</th>\n      <td>6251</td>\n      <td>45</td>\n      <td>75.09</td>\n      <td>3.867</td>\n      <td>8.684</td>\n      <td>False</td>\n      <td>734297.87</td>\n      <td>2012</td>\n      <td>8</td>\n      <td>3.580831</td>\n      <td>-0.168998</td>\n      <td>-0.065037</td>\n      <td>1.574261</td>\n      <td>0.598779</td>\n    </tr>\n    <tr>\n      <th>6251</th>\n      <td>6252</td>\n      <td>45</td>\n      <td>75.70</td>\n      <td>3.911</td>\n      <td>8.684</td>\n      <td>True</td>\n      <td>766512.66</td>\n      <td>2012</td>\n      <td>9</td>\n      <td>1.453422</td>\n      <td>-0.167623</td>\n      <td>-0.072573</td>\n      <td>0.222921</td>\n      <td>0.128229</td>\n    </tr>\n    <tr>\n      <th>6252</th>\n      <td>6253</td>\n      <td>45</td>\n      <td>67.87</td>\n      <td>3.948</td>\n      <td>8.684</td>\n      <td>False</td>\n      <td>702238.27</td>\n      <td>2012</td>\n      <td>9</td>\n      <td>1.518086</td>\n      <td>-0.170211</td>\n      <td>-0.081610</td>\n      <td>0.635401</td>\n      <td>0.909037</td>\n    </tr>\n    <tr>\n      <th>6253</th>\n      <td>6254</td>\n      <td>45</td>\n      <td>65.32</td>\n      <td>4.038</td>\n      <td>8.684</td>\n      <td>False</td>\n      <td>723086.20</td>\n      <td>2012</td>\n      <td>9</td>\n      <td>1.019698</td>\n      <td>-0.151556</td>\n      <td>-0.070589</td>\n      <td>0.360229</td>\n      <td>1.735591</td>\n    </tr>\n    <tr>\n      <th>6254</th>\n      <td>6255</td>\n      <td>45</td>\n      <td>64.88</td>\n      <td>3.997</td>\n      <td>8.684</td>\n      <td>False</td>\n      <td>713173.95</td>\n      <td>2012</td>\n      <td>9</td>\n      <td>0.362838</td>\n      <td>-0.166038</td>\n      <td>-0.082133</td>\n      <td>0.156122</td>\n      <td>0.427737</td>\n    </tr>\n  </tbody>\n</table>\n<p>6255 rows × 14 columns</p>\n</div>"
     },
     "execution_count": 83,
     "metadata": {},
     "output_type": "execute_result"
    }
   ],
   "source": [
    "from sklearn.preprocessing import StandardScaler\n",
    "\n",
    "scaler = StandardScaler()\n",
    "scaler.fit(train[['Promotion1', 'Promotion2', 'Promotion3', 'Promotion4', 'Promotion5']])\n",
    "\n",
    "scaled = scaler.transform(train[['Promotion1', 'Promotion2', 'Promotion3', 'Promotion4', 'Promotion5']])\n",
    "\n",
    "train[['Scaled_Promotion1', 'Scaled_Promotion2', 'Scaled_Promotion3', 'Scaled_Promotion4', 'Scaled_Promotion5']] = scaled\n",
    "\n",
    "train = train.drop(columns=['Promotion1', 'Promotion2', 'Promotion3', 'Promotion4', 'Promotion5'])\n",
    "train\n"
   ],
   "metadata": {
    "collapsed": false,
    "pycharm": {
     "name": "#%%\n"
    }
   }
  },
  {
   "cell_type": "code",
   "execution_count": 84,
   "outputs": [
    {
     "data": {
      "text/plain": "      id  Store  Temperature  Fuel_Price  Unemployment  IsHoliday  Year  \\\n0      1      1        68.55       3.617         6.573      False  2012   \n1      2      1        62.99       3.601         6.573      False  2012   \n2      3      1        67.97       3.594         6.573      False  2012   \n3      4      1        69.16       3.506         6.573      False  2012   \n4      5      2        70.27       3.617         6.170      False  2012   \n..   ...    ...          ...         ...           ...        ...   ...   \n175  176     44        46.97       3.755         5.217      False  2012   \n176  177     45        64.89       3.985         8.667      False  2012   \n177  178     45        54.47       4.000         8.667      False  2012   \n178  179     45        56.47       3.969         8.667      False  2012   \n179  180     45        58.85       3.882         8.667      False  2012   \n\n     Month  Scaled_Promotion1  Scaled_Promotion2  Scaled_Promotion3  \\\n0       10           0.956583          -0.170211          -0.079007   \n1       10          -0.053718          -0.170211          -0.080897   \n2       10          -0.245241          -0.170211          -0.081492   \n3       10           0.030535          -0.163792          -0.081292   \n4       10           0.612584          -0.170211          -0.080536   \n..     ...                ...                ...                ...   \n175     10          -0.398965          -0.169683          -0.082230   \n176     10           0.445482          -0.170211          -0.078895   \n177     10          -0.075621          -0.170211          -0.080938   \n178     10          -0.067571          -0.170211          -0.081819   \n179     10           0.272172          -0.158469          -0.063715   \n\n     Scaled_Promotion4  Scaled_Promotion5  \n0             0.686920           0.509844  \n1            -0.106760           1.068815  \n2            -0.244199           0.190716  \n3             0.012961          -0.054187  \n4             0.531594           0.565067  \n..                 ...                ...  \n175          -0.265323          -0.260073  \n176           0.327864           0.197316  \n177          -0.107560           0.598392  \n178          -0.150097           0.002305  \n179          -0.209533          -0.162730  \n\n[180 rows x 13 columns]",
      "text/html": "<div>\n<style scoped>\n    .dataframe tbody tr th:only-of-type {\n        vertical-align: middle;\n    }\n\n    .dataframe tbody tr th {\n        vertical-align: top;\n    }\n\n    .dataframe thead th {\n        text-align: right;\n    }\n</style>\n<table border=\"1\" class=\"dataframe\">\n  <thead>\n    <tr style=\"text-align: right;\">\n      <th></th>\n      <th>id</th>\n      <th>Store</th>\n      <th>Temperature</th>\n      <th>Fuel_Price</th>\n      <th>Unemployment</th>\n      <th>IsHoliday</th>\n      <th>Year</th>\n      <th>Month</th>\n      <th>Scaled_Promotion1</th>\n      <th>Scaled_Promotion2</th>\n      <th>Scaled_Promotion3</th>\n      <th>Scaled_Promotion4</th>\n      <th>Scaled_Promotion5</th>\n    </tr>\n  </thead>\n  <tbody>\n    <tr>\n      <th>0</th>\n      <td>1</td>\n      <td>1</td>\n      <td>68.55</td>\n      <td>3.617</td>\n      <td>6.573</td>\n      <td>False</td>\n      <td>2012</td>\n      <td>10</td>\n      <td>0.956583</td>\n      <td>-0.170211</td>\n      <td>-0.079007</td>\n      <td>0.686920</td>\n      <td>0.509844</td>\n    </tr>\n    <tr>\n      <th>1</th>\n      <td>2</td>\n      <td>1</td>\n      <td>62.99</td>\n      <td>3.601</td>\n      <td>6.573</td>\n      <td>False</td>\n      <td>2012</td>\n      <td>10</td>\n      <td>-0.053718</td>\n      <td>-0.170211</td>\n      <td>-0.080897</td>\n      <td>-0.106760</td>\n      <td>1.068815</td>\n    </tr>\n    <tr>\n      <th>2</th>\n      <td>3</td>\n      <td>1</td>\n      <td>67.97</td>\n      <td>3.594</td>\n      <td>6.573</td>\n      <td>False</td>\n      <td>2012</td>\n      <td>10</td>\n      <td>-0.245241</td>\n      <td>-0.170211</td>\n      <td>-0.081492</td>\n      <td>-0.244199</td>\n      <td>0.190716</td>\n    </tr>\n    <tr>\n      <th>3</th>\n      <td>4</td>\n      <td>1</td>\n      <td>69.16</td>\n      <td>3.506</td>\n      <td>6.573</td>\n      <td>False</td>\n      <td>2012</td>\n      <td>10</td>\n      <td>0.030535</td>\n      <td>-0.163792</td>\n      <td>-0.081292</td>\n      <td>0.012961</td>\n      <td>-0.054187</td>\n    </tr>\n    <tr>\n      <th>4</th>\n      <td>5</td>\n      <td>2</td>\n      <td>70.27</td>\n      <td>3.617</td>\n      <td>6.170</td>\n      <td>False</td>\n      <td>2012</td>\n      <td>10</td>\n      <td>0.612584</td>\n      <td>-0.170211</td>\n      <td>-0.080536</td>\n      <td>0.531594</td>\n      <td>0.565067</td>\n    </tr>\n    <tr>\n      <th>...</th>\n      <td>...</td>\n      <td>...</td>\n      <td>...</td>\n      <td>...</td>\n      <td>...</td>\n      <td>...</td>\n      <td>...</td>\n      <td>...</td>\n      <td>...</td>\n      <td>...</td>\n      <td>...</td>\n      <td>...</td>\n      <td>...</td>\n    </tr>\n    <tr>\n      <th>175</th>\n      <td>176</td>\n      <td>44</td>\n      <td>46.97</td>\n      <td>3.755</td>\n      <td>5.217</td>\n      <td>False</td>\n      <td>2012</td>\n      <td>10</td>\n      <td>-0.398965</td>\n      <td>-0.169683</td>\n      <td>-0.082230</td>\n      <td>-0.265323</td>\n      <td>-0.260073</td>\n    </tr>\n    <tr>\n      <th>176</th>\n      <td>177</td>\n      <td>45</td>\n      <td>64.89</td>\n      <td>3.985</td>\n      <td>8.667</td>\n      <td>False</td>\n      <td>2012</td>\n      <td>10</td>\n      <td>0.445482</td>\n      <td>-0.170211</td>\n      <td>-0.078895</td>\n      <td>0.327864</td>\n      <td>0.197316</td>\n    </tr>\n    <tr>\n      <th>177</th>\n      <td>178</td>\n      <td>45</td>\n      <td>54.47</td>\n      <td>4.000</td>\n      <td>8.667</td>\n      <td>False</td>\n      <td>2012</td>\n      <td>10</td>\n      <td>-0.075621</td>\n      <td>-0.170211</td>\n      <td>-0.080938</td>\n      <td>-0.107560</td>\n      <td>0.598392</td>\n    </tr>\n    <tr>\n      <th>178</th>\n      <td>179</td>\n      <td>45</td>\n      <td>56.47</td>\n      <td>3.969</td>\n      <td>8.667</td>\n      <td>False</td>\n      <td>2012</td>\n      <td>10</td>\n      <td>-0.067571</td>\n      <td>-0.170211</td>\n      <td>-0.081819</td>\n      <td>-0.150097</td>\n      <td>0.002305</td>\n    </tr>\n    <tr>\n      <th>179</th>\n      <td>180</td>\n      <td>45</td>\n      <td>58.85</td>\n      <td>3.882</td>\n      <td>8.667</td>\n      <td>False</td>\n      <td>2012</td>\n      <td>10</td>\n      <td>0.272172</td>\n      <td>-0.158469</td>\n      <td>-0.063715</td>\n      <td>-0.209533</td>\n      <td>-0.162730</td>\n    </tr>\n  </tbody>\n</table>\n<p>180 rows × 13 columns</p>\n</div>"
     },
     "execution_count": 84,
     "metadata": {},
     "output_type": "execute_result"
    }
   ],
   "source": [
    "test = test.fillna(0)\n",
    "\n",
    "test['Year'] = test['Date'].apply(lambda x: get_date(x)[0])\n",
    "test['Month'] = test['Date'].apply(lambda x: get_date(x)[1])\n",
    "test = test.drop(columns=['Date'])\n",
    "\n",
    "scaled = scaler.transform(test[['Promotion1', 'Promotion2', 'Promotion3', 'Promotion4', 'Promotion5']])\n",
    "\n",
    "test[['Scaled_Promotion1', 'Scaled_Promotion2', 'Scaled_Promotion3', 'Scaled_Promotion4', 'Scaled_Promotion5']] = scaled\n",
    "\n",
    "test = test.drop(columns=['Promotion1', 'Promotion2', 'Promotion3', 'Promotion4', 'Promotion5'])\n",
    "\n",
    "test"
   ],
   "metadata": {
    "collapsed": false,
    "pycharm": {
     "name": "#%%\n"
    }
   }
  },
  {
   "cell_type": "code",
   "execution_count": 85,
   "outputs": [
    {
     "data": {
      "text/plain": "RandomForestRegressor()",
      "text/html": "<style>#sk-container-id-1 {color: black;background-color: white;}#sk-container-id-1 pre{padding: 0;}#sk-container-id-1 div.sk-toggleable {background-color: white;}#sk-container-id-1 label.sk-toggleable__label {cursor: pointer;display: block;width: 100%;margin-bottom: 0;padding: 0.3em;box-sizing: border-box;text-align: center;}#sk-container-id-1 label.sk-toggleable__label-arrow:before {content: \"▸\";float: left;margin-right: 0.25em;color: #696969;}#sk-container-id-1 label.sk-toggleable__label-arrow:hover:before {color: black;}#sk-container-id-1 div.sk-estimator:hover label.sk-toggleable__label-arrow:before {color: black;}#sk-container-id-1 div.sk-toggleable__content {max-height: 0;max-width: 0;overflow: hidden;text-align: left;background-color: #f0f8ff;}#sk-container-id-1 div.sk-toggleable__content pre {margin: 0.2em;color: black;border-radius: 0.25em;background-color: #f0f8ff;}#sk-container-id-1 input.sk-toggleable__control:checked~div.sk-toggleable__content {max-height: 200px;max-width: 100%;overflow: auto;}#sk-container-id-1 input.sk-toggleable__control:checked~label.sk-toggleable__label-arrow:before {content: \"▾\";}#sk-container-id-1 div.sk-estimator input.sk-toggleable__control:checked~label.sk-toggleable__label {background-color: #d4ebff;}#sk-container-id-1 div.sk-label input.sk-toggleable__control:checked~label.sk-toggleable__label {background-color: #d4ebff;}#sk-container-id-1 input.sk-hidden--visually {border: 0;clip: rect(1px 1px 1px 1px);clip: rect(1px, 1px, 1px, 1px);height: 1px;margin: -1px;overflow: hidden;padding: 0;position: absolute;width: 1px;}#sk-container-id-1 div.sk-estimator {font-family: monospace;background-color: #f0f8ff;border: 1px dotted black;border-radius: 0.25em;box-sizing: border-box;margin-bottom: 0.5em;}#sk-container-id-1 div.sk-estimator:hover {background-color: #d4ebff;}#sk-container-id-1 div.sk-parallel-item::after {content: \"\";width: 100%;border-bottom: 1px solid gray;flex-grow: 1;}#sk-container-id-1 div.sk-label:hover label.sk-toggleable__label {background-color: #d4ebff;}#sk-container-id-1 div.sk-serial::before {content: \"\";position: absolute;border-left: 1px solid gray;box-sizing: border-box;top: 0;bottom: 0;left: 50%;z-index: 0;}#sk-container-id-1 div.sk-serial {display: flex;flex-direction: column;align-items: center;background-color: white;padding-right: 0.2em;padding-left: 0.2em;position: relative;}#sk-container-id-1 div.sk-item {position: relative;z-index: 1;}#sk-container-id-1 div.sk-parallel {display: flex;align-items: stretch;justify-content: center;background-color: white;position: relative;}#sk-container-id-1 div.sk-item::before, #sk-container-id-1 div.sk-parallel-item::before {content: \"\";position: absolute;border-left: 1px solid gray;box-sizing: border-box;top: 0;bottom: 0;left: 50%;z-index: -1;}#sk-container-id-1 div.sk-parallel-item {display: flex;flex-direction: column;z-index: 1;position: relative;background-color: white;}#sk-container-id-1 div.sk-parallel-item:first-child::after {align-self: flex-end;width: 50%;}#sk-container-id-1 div.sk-parallel-item:last-child::after {align-self: flex-start;width: 50%;}#sk-container-id-1 div.sk-parallel-item:only-child::after {width: 0;}#sk-container-id-1 div.sk-dashed-wrapped {border: 1px dashed gray;margin: 0 0.4em 0.5em 0.4em;box-sizing: border-box;padding-bottom: 0.4em;background-color: white;}#sk-container-id-1 div.sk-label label {font-family: monospace;font-weight: bold;display: inline-block;line-height: 1.2em;}#sk-container-id-1 div.sk-label-container {text-align: center;}#sk-container-id-1 div.sk-container {/* jupyter's `normalize.less` sets `[hidden] { display: none; }` but bootstrap.min.css set `[hidden] { display: none !important; }` so we also need the `!important` here to be able to override the default hidden behavior on the sphinx rendered scikit-learn.org. See: https://github.com/scikit-learn/scikit-learn/issues/21755 */display: inline-block !important;position: relative;}#sk-container-id-1 div.sk-text-repr-fallback {display: none;}</style><div id=\"sk-container-id-1\" class=\"sk-top-container\"><div class=\"sk-text-repr-fallback\"><pre>RandomForestRegressor()</pre><b>In a Jupyter environment, please rerun this cell to show the HTML representation or trust the notebook. <br />On GitHub, the HTML representation is unable to render, please try loading this page with nbviewer.org.</b></div><div class=\"sk-container\" hidden><div class=\"sk-item\"><div class=\"sk-estimator sk-toggleable\"><input class=\"sk-toggleable__control sk-hidden--visually\" id=\"sk-estimator-id-1\" type=\"checkbox\" checked><label for=\"sk-estimator-id-1\" class=\"sk-toggleable__label sk-toggleable__label-arrow\">RandomForestRegressor</label><div class=\"sk-toggleable__content\"><pre>RandomForestRegressor()</pre></div></div></div></div></div>"
     },
     "execution_count": 85,
     "metadata": {},
     "output_type": "execute_result"
    }
   ],
   "source": [
    "from sklearn.ensemble import RandomForestRegressor\n",
    "\n",
    "# 모델 선언\n",
    "model = RandomForestRegressor()\n",
    "\n",
    "# 분석 의미 없는 id 제거\n",
    "train = train.drop(columns=['id'])\n",
    "test = test.drop(columns=['id'])\n",
    "\n",
    "# 학습에 사용할 정보와 예측하고자 하는 정보를 분리\n",
    "x_train = train.drop(columns=['Weekly_Sales'])\n",
    "y_train = train['Weekly_Sales']\n",
    "\n",
    "# 모델 학습\n",
    "model.fit(x_train,y_train)"
   ],
   "metadata": {
    "collapsed": false,
    "pycharm": {
     "name": "#%%\n"
    }
   }
  },
  {
   "cell_type": "markdown",
   "source": [
    "랜덤 포레스트는 대표적인 앙상블(ensemble) 모델의 일종이다.\n",
    "\"여러 개의 트리 모델\" 에 \"서로 다른 데이터\"를 투입하여 나온 결과를 종합하여 가장 많은 투표(Votin) 를 얻은 결과를 최종 결과로 선택하는 방식으로 작동한다\n",
    "과적합(Overfitting) 을 방지할 수 있고, 보다 일반화된 성늘을 끌어낼 수 있다\n"
   ],
   "metadata": {
    "collapsed": false,
    "pycharm": {
     "name": "#%% md\n"
    }
   }
  },
  {
   "cell_type": "code",
   "execution_count": 90,
   "outputs": [
    {
     "data": {
      "text/plain": "array([1627009.5792, 1596479.7671, 1493021.0784, 1450962.3396,\n       1817554.7655, 1816543.0798, 1741123.0343, 1754111.7512,\n        472200.9476,  465912.8778])"
     },
     "execution_count": 90,
     "metadata": {},
     "output_type": "execute_result"
    }
   ],
   "source": [
    "prediction = model.predict(test)\n",
    "\n",
    "prediction[:10]"
   ],
   "metadata": {
    "collapsed": false,
    "pycharm": {
     "name": "#%%\n"
    }
   }
  },
  {
   "cell_type": "code",
   "execution_count": 92,
   "outputs": [
    {
     "data": {
      "text/plain": "      id  Weekly_Sales\n0      1  1.627010e+06\n1      2  1.596480e+06\n2      3  1.493021e+06\n3      4  1.450962e+06\n4      5  1.817555e+06\n..   ...           ...\n175  176  3.308340e+05\n176  177  7.417857e+05\n177  178  7.062136e+05\n178  179  7.263185e+05\n179  180  7.439728e+05\n\n[180 rows x 2 columns]",
      "text/html": "<div>\n<style scoped>\n    .dataframe tbody tr th:only-of-type {\n        vertical-align: middle;\n    }\n\n    .dataframe tbody tr th {\n        vertical-align: top;\n    }\n\n    .dataframe thead th {\n        text-align: right;\n    }\n</style>\n<table border=\"1\" class=\"dataframe\">\n  <thead>\n    <tr style=\"text-align: right;\">\n      <th></th>\n      <th>id</th>\n      <th>Weekly_Sales</th>\n    </tr>\n  </thead>\n  <tbody>\n    <tr>\n      <th>0</th>\n      <td>1</td>\n      <td>1.627010e+06</td>\n    </tr>\n    <tr>\n      <th>1</th>\n      <td>2</td>\n      <td>1.596480e+06</td>\n    </tr>\n    <tr>\n      <th>2</th>\n      <td>3</td>\n      <td>1.493021e+06</td>\n    </tr>\n    <tr>\n      <th>3</th>\n      <td>4</td>\n      <td>1.450962e+06</td>\n    </tr>\n    <tr>\n      <th>4</th>\n      <td>5</td>\n      <td>1.817555e+06</td>\n    </tr>\n    <tr>\n      <th>...</th>\n      <td>...</td>\n      <td>...</td>\n    </tr>\n    <tr>\n      <th>175</th>\n      <td>176</td>\n      <td>3.308340e+05</td>\n    </tr>\n    <tr>\n      <th>176</th>\n      <td>177</td>\n      <td>7.417857e+05</td>\n    </tr>\n    <tr>\n      <th>177</th>\n      <td>178</td>\n      <td>7.062136e+05</td>\n    </tr>\n    <tr>\n      <th>178</th>\n      <td>179</td>\n      <td>7.263185e+05</td>\n    </tr>\n    <tr>\n      <th>179</th>\n      <td>180</td>\n      <td>7.439728e+05</td>\n    </tr>\n  </tbody>\n</table>\n<p>180 rows × 2 columns</p>\n</div>"
     },
     "execution_count": 92,
     "metadata": {},
     "output_type": "execute_result"
    }
   ],
   "source": [
    "sample_submission['Weekly_Sales'] = prediction\n",
    "sample_submission.to_csv('./dataset/submission.csv',index = False)\n",
    "sample_submission"
   ],
   "metadata": {
    "collapsed": false,
    "pycharm": {
     "name": "#%%\n"
    }
   }
  },
  {
   "cell_type": "code",
   "execution_count": null,
   "outputs": [],
   "source": [],
   "metadata": {
    "collapsed": false,
    "pycharm": {
     "name": "#%%\n"
    }
   }
  }
 ],
 "metadata": {
  "kernelspec": {
   "display_name": "Python 3",
   "language": "python",
   "name": "python3"
  },
  "language_info": {
   "codemirror_mode": {
    "name": "ipython",
    "version": 2
   },
   "file_extension": ".py",
   "mimetype": "text/x-python",
   "name": "python",
   "nbconvert_exporter": "python",
   "pygments_lexer": "ipython2",
   "version": "2.7.6"
  }
 },
 "nbformat": 4,
 "nbformat_minor": 0
}